{
 "cells": [
  {
   "cell_type": "markdown",
   "id": "9cd09744-d788-40cc-b3a1-abccabaf0179",
   "metadata": {},
   "source": [
    "1. How do you distinguish between shutil.copy() and shutil.copytree()?\n",
    "\n",
    "Ans: The shutil.copy() function will copy a single file, while shutil.copytree() will copy an entire folder, along with all its contents."
   ]
  },
  {
   "cell_type": "markdown",
   "id": "c9bd4d02-5d13-43b5-b067-9d398c0b5f4e",
   "metadata": {},
   "source": [
    "2. What function is used to rename files??\n",
    "\n",
    "Ans: The shutil.move() function is used for renaming files, as well as moving them\n",
    "\n"
   ]
  },
  {
   "cell_type": "markdown",
   "id": "6a961d11-20d5-4206-b284-18434ed1b7a8",
   "metadata": {},
   "source": [
    "3. What is the difference between the delete functions in the send2trash and shutil modules?\n",
    "\n",
    "Ans: The send2trash functions will move a file or folder to the recycle bin, while shutil functions will permanently delete files and folders."
   ]
  },
  {
   "cell_type": "markdown",
   "id": "967ec612-0f7d-4207-8186-04f9a9caa1a1",
   "metadata": {},
   "source": [
    "4.ZipFile objects have a close() method just like File objects’ close() method. What ZipFile method is\n",
    "equivalent to File objects’ open() method?\n",
    "\n",
    "Ans: The zipfile.ZipFile() function is equivalent to the open() function; the first argument is the filename, and the second argument is the mode to open the ZIP file in (read, write, or append)."
   ]
  },
  {
   "cell_type": "markdown",
   "id": "d9fcfda5-b424-44dc-993c-1e4278cdc8ed",
   "metadata": {},
   "source": [
    "5. Create a programme that searches a folder tree for files with a certain file extension (such as .pdf\n",
    "or .jpg). Copy these files from whatever location they are in to a new folder.\n",
    "\n",
    "Ans: import os, shutil\n",
    "\n",
    "sourcePath = input(‘Enter the absolute path of the source folder: ‘)\n",
    " fileExtType = input(‘Enter the type of file to copy (such as .pdf or .jpg): ‘).lower()\n",
    " destPath = input(‘Enter the absolute path of the destination folder: ‘)\n",
    "\n",
    "for foldername, subfolders, filenames in os.walk(sourcePath):\n",
    " for filename in filenames:\n",
    " if filename.lower().endswith(fileExtType):\n",
    " #print(foldername + ‘\\\\’ + filename)\n",
    " copySourcePath = os.path.join(foldername, filename)\n",
    " #print(copySourcePath)\n",
    "shutil.copy(copySourcePath, destPath)\n",
    " else:\n",
    " continue\n",
    " "
   ]
  },
  {
   "cell_type": "code",
   "execution_count": null,
   "id": "fb3c9796-bf9f-43ab-8062-4bd0c421a3d5",
   "metadata": {},
   "outputs": [],
   "source": []
  },
  {
   "cell_type": "code",
   "execution_count": null,
   "id": "7b19441c-a6f5-4bcf-97aa-dae7674371f1",
   "metadata": {},
   "outputs": [],
   "source": []
  }
 ],
 "metadata": {
  "kernelspec": {
   "display_name": "Python 3 (ipykernel)",
   "language": "python",
   "name": "python3"
  },
  "language_info": {
   "codemirror_mode": {
    "name": "ipython",
    "version": 3
   },
   "file_extension": ".py",
   "mimetype": "text/x-python",
   "name": "python",
   "nbconvert_exporter": "python",
   "pygments_lexer": "ipython3",
   "version": "3.10.6"
  }
 },
 "nbformat": 4,
 "nbformat_minor": 5
}
